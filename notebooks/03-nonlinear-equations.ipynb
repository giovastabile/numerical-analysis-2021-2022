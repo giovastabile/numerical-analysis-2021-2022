{
 "cells": [
  {
   "cell_type": "markdown",
   "metadata": {
    "ein.tags": [
     "worksheet-0"
    ],
    "id": "TE1g0CQ9-Omk"
   },
   "source": [
    "# Nonlinear Equations\n",
    "\n",
    "We want to find a root of the nonlinear function $f$ using different methods.\n",
    "\n",
    "1. Bisection method\n",
    "2. Newton method\n",
    "3. Chord method\n",
    "4. Secant method\n",
    "5. Fixed point iterations\n",
    "\n",
    "\n",
    "\n"
   ]
  },
  {
   "cell_type": "code",
   "execution_count": null,
   "metadata": {
    "id": "l3Qc-NI_-Omn"
   },
   "outputs": [],
   "source": [
    "%matplotlib inline\n",
    "from numpy import *\n",
    "from matplotlib.pyplot import *\n",
    "import sympy as sym\n"
   ]
  },
  {
   "cell_type": "markdown",
   "metadata": {
    "id": "N5z7256tPZhZ"
   },
   "source": [
    "$f(t) = \\frac{t}{8}(63t^4-70t^2+15)$"
   ]
  },
  {
   "cell_type": "code",
   "execution_count": null,
   "metadata": {
    "autoscroll": "json-false",
    "colab": {
     "base_uri": "https://localhost:8080/",
     "height": 265
    },
    "ein.tags": [
     "worksheet-0"
    ],
    "id": "or4w3krE-Omo",
    "outputId": "3d62e44f-6616-4734-fef9-05e3a8abcbf0"
   },
   "outputs": [],
   "source": [
    "t = sym.symbols('t')\n",
    "\n",
    "f_sym = t/8. * (63.*t**4 - 70.*t**2. +15.) # Legendre polynomial of order 5\n",
    "f_prime_sym = sym.diff(f_sym,t)\n",
    "\n",
    "f = sym.lambdify(t, f_sym, 'numpy')\n",
    "f_prime = sym.lambdify(t,f_prime_sym, 'numpy')\n",
    "\n",
    "# Let's plot\n",
    "n = 1025\n",
    "\n",
    "x = linspace(-1,1,n)\n",
    "c = zeros_like(x)\n",
    "\n",
    "_ = plot(x,f(x))\n",
    "_ = plot(x,c)\n",
    "_ = grid()\n"
   ]
  },
  {
   "cell_type": "code",
   "execution_count": null,
   "metadata": {
    "id": "CMV5ppVz-Omp"
   },
   "outputs": [],
   "source": [
    "# Initial data for the variuos algorithms\n",
    "\n",
    "# interval in which we seek the solution \n",
    "a = 0.7\n",
    "b = 1.\n",
    "\n",
    "# initial points\n",
    "x0 = (a+b)/2.0\n",
    "x00 = b\n"
   ]
  },
  {
   "cell_type": "code",
   "execution_count": null,
   "metadata": {
    "id": "1FuwDoWc-Omp"
   },
   "outputs": [],
   "source": [
    "# stopping criteria\n",
    "eps = 1e-10\n",
    "n_max = 1000"
   ]
  },
  {
   "cell_type": "markdown",
   "metadata": {
    "id": "LNMKFJ7Q-Omp"
   },
   "source": [
    "## Bisection method\n",
    "\n",
    "$$\n",
    "x^k = \\frac{a^k+b^k}{2}\n",
    "$$\n",
    "```\n",
    "                   if (f(a_k) * f(x_k)) < 0:\n",
    "                      b_k1 = x_k\n",
    "                      a_k1 = a_k\n",
    "                   else:\n",
    "                      a_k1 = x_k\n",
    "                      b_k1 = b_k\n",
    "```"
   ]
  },
  {
   "cell_type": "code",
   "execution_count": null,
   "metadata": {
    "colab": {
     "base_uri": "https://localhost:8080/",
     "height": 369
    },
    "id": "roc4TofZ-Omq",
    "outputId": "a06ec2de-9758-4a51-ee61-a43e1c033660"
   },
   "outputs": [],
   "source": [
    "def bisect(f,a,b,eps,n_max):\n",
    "    assert f(a)*f(b)<0\n",
    "    a_new = a\n",
    "    b_new = b\n",
    "    x = mean([a,b])\n",
    "    err = eps + 1.\n",
    "    errors = [err]\n",
    "    it = 0\n",
    "    while (err > eps and it < n_max):\n",
    "        if ( f(a_new) * f(x) < 0 ):\n",
    "            # root in (a_new,x)\n",
    "            b_new = x\n",
    "        else:\n",
    "            # root in (x,b_new)\n",
    "            a_new = x\n",
    "        \n",
    "        x_new = mean([a_new,b_new])\n",
    "        \n",
    "        #err = 0.5 *(b_new -a_new)\n",
    "        err = abs(f(x_new))\n",
    "        #err = abs(x-x_new)\n",
    "        \n",
    "        errors.append(err)\n",
    "        x = x_new\n",
    "        it += 1\n",
    "    \n",
    "    print(it)\n",
    "    print(x)\n",
    "    print(err)\n",
    "    return errors\n",
    "              \n",
    "%time errors_bisect = bisect(f,a,b,eps,n_max)\n",
    "semilogy(errors_bisect)\n",
    "\n",
    "\n",
    "             \n",
    "        "
   ]
  },
  {
   "cell_type": "code",
   "execution_count": null,
   "metadata": {
    "id": "g9Jotj5z-Omq"
   },
   "outputs": [],
   "source": [
    "# is the number of iterations coherent with the theoretical estimation?"
   ]
  },
  {
   "cell_type": "markdown",
   "metadata": {
    "id": "dO1YonV9-Omr"
   },
   "source": [
    "In order to find out other methods for solving non-linear equations, let's compute the Taylor's series of $f(x^k)$ up to the first order \n",
    "\n",
    "$$\n",
    "f(x^k) \\simeq f(x^k) + (x-x^k)f^{\\prime}(x^k)\n",
    "$$\n",
    "which suggests the following iterative scheme\n",
    "$$\n",
    "x^{k+1} = x^k - \\frac{f(x^k)}{f^{\\prime}(x^k)}\n",
    "$$\n",
    "\n",
    "The following methods are obtained applying the above scheme where\n",
    "\n",
    "$$\n",
    "f^{\\prime}(x^k) \\approx q^k\n",
    "$$"
   ]
  },
  {
   "cell_type": "markdown",
   "metadata": {
    "id": "XJu3vzxh-Omr"
   },
   "source": [
    "## Newton's method\n",
    "$$\n",
    "q^k = f^{\\prime}(x^k)\n",
    "$$\n",
    "\n",
    "$$\n",
    "x^{k+1} = x^k - \\frac{f(x^k)}{q^k}\n",
    "$$"
   ]
  },
  {
   "cell_type": "code",
   "execution_count": null,
   "metadata": {
    "colab": {
     "base_uri": "https://localhost:8080/",
     "height": 369
    },
    "id": "qKA_q-bQ-Oms",
    "outputId": "4482a6e5-980e-4b8b-c10e-b10d7c035ba4"
   },
   "outputs": [],
   "source": [
    "def newton(f,f_prime,x0,eps,n_max):\n",
    "    err = abs(f(x0))\n",
    "    errors = [err]\n",
    "    it = 0\n",
    "    x = x0\n",
    "    while (err > eps and it < n_max):\n",
    "        qk = f_prime(x)\n",
    "        if abs(qk) < 1e-12:\n",
    "            raise RuntimeError(\"f_prime(x) is close to zero\")\n",
    "        x_new = x - f(x)/qk\n",
    "        err = abs(f(x_new))\n",
    "        x = x_new\n",
    "        errors.append(err)\n",
    "        it += 1\n",
    "    \n",
    "    print(x)\n",
    "    print(err)\n",
    "    print(it)\n",
    "    return errors\n",
    "\n",
    "%time errors_newton = newton(f,f_prime,1.0,eps,n_max)\n",
    "semilogy(errors_newton)"
   ]
  },
  {
   "cell_type": "markdown",
   "metadata": {
    "id": "I9H_MikD-Oms"
   },
   "source": [
    "## Chord method\n",
    "\n",
    "$$\n",
    "q^k \\equiv q = \\frac{f(b)-f(a)}{b-a}\n",
    "$$\n",
    "\n",
    "$$\n",
    "x^{k+1} = x^k - \\frac{f(x^k)}{q}\n",
    "$$"
   ]
  },
  {
   "cell_type": "code",
   "execution_count": null,
   "metadata": {
    "autoscroll": "json-false",
    "colab": {
     "base_uri": "https://localhost:8080/",
     "height": 369
    },
    "ein.tags": [
     "worksheet-0"
    ],
    "id": "9DyjzHp_-Oms",
    "outputId": "e711367a-6ee0-4bb3-bec0-fae06cf2bc1e"
   },
   "outputs": [],
   "source": [
    "def chord(f,a,b,x0,eps,n_max):\n",
    "    q = (f(b) - f(a))/(b-a)\n",
    "    err = eps +1.\n",
    "    errors = [err]\n",
    "    it = 0\n",
    "    x = x0\n",
    "    while (err > eps and it <n_max):\n",
    "        x_new = x - f(x)/q\n",
    "        err = abs(x_new - x)\n",
    "        errors.append(err)\n",
    "        x = x_new\n",
    "        it += 1\n",
    "    \n",
    "    print(x)\n",
    "    print(err)\n",
    "    print(it)\n",
    "    return errors\n",
    "\n",
    "%time errors_chord = chord (f,a,b,x0,eps,n_max)\n",
    "semilogy(errors_chord)"
   ]
  },
  {
   "cell_type": "markdown",
   "metadata": {
    "id": "lxBMTAIO-Omt"
   },
   "source": [
    "## Secant method\n",
    "\n",
    "$$\n",
    "q^k = \\frac{f(x^k)-f(x^{k-1})}{x^k - x^{k-1}}\n",
    "$$\n",
    "\n",
    "$$\n",
    "x^{k+1} = x^k - \\frac{f(x^k)}{q^k}\n",
    "$$\n",
    "\n",
    "Note that this algorithm requirs **two** initial points"
   ]
  },
  {
   "cell_type": "code",
   "execution_count": null,
   "metadata": {
    "colab": {
     "base_uri": "https://localhost:8080/",
     "height": 369
    },
    "id": "wZVgKGxp-Omt",
    "outputId": "c9d54b72-e742-4c47-f9ee-b2ee426dba14"
   },
   "outputs": [],
   "source": [
    "def secant(f,x0,x00,eps,n_max):\n",
    "    err = eps +1.\n",
    "    errors = [err]\n",
    "    \n",
    "    it = 0\n",
    "    \n",
    "    xk = x0\n",
    "    xkk = x00\n",
    "    while (err > eps and it < n_max):\n",
    "        qk = (f(xk) - f(xkk))/(xk - xkk)\n",
    "        x_new = xk - f(xk)/qk\n",
    "        err = abs (x_new - xk)\n",
    "        xkk = xk\n",
    "        xk = x_new\n",
    "        it += 1\n",
    "        errors.append(err)\n",
    "        \n",
    "    print(xk)\n",
    "    print(err)\n",
    "    print(it)\n",
    "    return errors\n",
    "    \n",
    "%time errors_secant = secant(f,x0,x00,eps,n_max)\n",
    "semilogy(errors_secant)"
   ]
  },
  {
   "cell_type": "markdown",
   "metadata": {
    "id": "_yM_nQVF-Omt"
   },
   "source": [
    "## Fixed point iterations\n",
    "\n",
    "$$\n",
    "f(x)=0 \\to x-\\phi(x)=0\n",
    "$$\n",
    "\n",
    "$$\n",
    "x^{k+1} = \\phi(x^k)\n",
    "$$\n",
    "\n",
    "Let's remember that $f = \\frac{t}{8}(63t^4-70t^2+15)$, since we are interested in the last non trivial root we can focus on looking at the roots of $f1 = 63t^4-70t^2+15$.\n",
    "\n",
    "Then we can rewrite $f1(t) = 0$ as $t - \\phi(t) = 0$. We tried different ways to write such an expression:\n",
    "\n",
    "Dividing by $70t$:\n",
    "$$\n",
    "\\frac{63}{70}t^3 -t +\\frac{15}{70t} = 0 \\to \\phi_1 = \\frac{63}{70}t^3 +\\frac{15}{70t}\n",
    "$$\n",
    "\n",
    "Dividing by $63t^3$:\n",
    "$$\n",
    "t - \\frac{70}{63t} + \\frac{15}{63t^3} = 0 \\to \\phi_2 = + \\frac{70}{63t} - \\frac{15}{63t^3}\n",
    "$$\n",
    "\n",
    "Mulyplying by $\\frac{t}{15}$:\n",
    "$$\n",
    "\\frac{63}{15}t^5 - \\frac{70}{15}t^3 + t = 0 \\to \\phi_3 = - \\frac{63}{15}t^5 + \\frac{70}{15}t^3\n",
    "$$\n",
    "\n",
    "Writing $f1$ as:\n",
    "$$\n",
    "70t^2 = 63t^4+15 \\to t = \\sqrt{\\frac{63t^4+15}{70}} \\to \\phi_4 = \\sqrt{\\frac{63t^4+15}{70}} \n",
    "$$"
   ]
  },
  {
   "cell_type": "code",
   "execution_count": null,
   "metadata": {
    "colab": {
     "base_uri": "https://localhost:8080/",
     "height": 439
    },
    "id": "vUfkZIoF-Omu",
    "outputId": "52fd1aa4-67f2-48e7-bb9d-2b4fdb2725e5"
   },
   "outputs": [],
   "source": [
    "phi1 = 63./70.*t**3 + 15./(70.*t)\n",
    "phi2 = 70./(63.*t) - 15./(63*t**3)\n",
    "phi3 = 70.0/15.0*t**3 - 63.0/15.0*t**5\n",
    "phi4 = sym.sqrt((63.*t**4 + 15.0)/70.)\n",
    "\n",
    "phi1_pri = sym.diff(phi1,t)\n",
    "phi2_pri = sym.diff(phi2,t)\n",
    "phi3_pri = sym.diff(phi3,t)\n",
    "phi4_pri = sym.diff(phi4,t)\n",
    "\n",
    "phi1 = sym.lambdify(t, phi1, 'numpy')\n",
    "phi2 = sym.lambdify(t, phi2, 'numpy')\n",
    "phi3 = sym.lambdify(t, phi3, 'numpy')\n",
    "phi4 = sym.lambdify(t, phi4, 'numpy')\n",
    "\n",
    "phi1_pri = sym.lambdify(t, phi1_pri, 'numpy')\n",
    "phi2_pri = sym.lambdify(t, phi2_pri, 'numpy')\n",
    "phi3_pri = sym.lambdify(t, phi3_pri, 'numpy')\n",
    "phi4_pri = sym.lambdify(t, phi4_pri, 'numpy')\n",
    "\n",
    "x0 = 0.95\n",
    "\n",
    "print(\"phi1'(a):\",abs(phi1_pri(x0)))\n",
    "print(\"phi2'(a):\",abs(phi2_pri(x0)))\n",
    "print(\"phi3'(a):\",abs(phi3_pri(x0)))\n",
    "print(\"phi4'(a):\",abs(phi4_pri(x0)))\n",
    "\n",
    "def fixed_point(phi,x0,eps,n_max):\n",
    "    x = x0\n",
    "    err = eps + 1.\n",
    "    errors = [err]\n",
    "    it = 0\n",
    "    while (err > eps and it < n_max):\n",
    "        x_new = phi (x)\n",
    "        err = abs (x_new -x)\n",
    "        x = x_new\n",
    "        it += 1\n",
    "        errors.append(err)\n",
    "    \n",
    "    print(x)\n",
    "    print(err)\n",
    "    print(it)\n",
    "    return errors\n",
    "\n",
    "%time errors_fixed = fixed_point(phi2,x0,eps,n_max)\n",
    "semilogy(errors_fixed)"
   ]
  },
  {
   "cell_type": "markdown",
   "metadata": {
    "id": "x5oDsF6a-Omu"
   },
   "source": [
    "## Comparison"
   ]
  },
  {
   "cell_type": "code",
   "execution_count": null,
   "metadata": {
    "colab": {
     "base_uri": "https://localhost:8080/",
     "height": 269
    },
    "id": "qK6j0cWN-Omu",
    "outputId": "16f3bf8d-dca6-40de-b081-9154f0f951db"
   },
   "outputs": [],
   "source": [
    "# plot the error convergence for the methods\n",
    "loglog(errors_bisect, label='bisect')\n",
    "loglog(errors_chord, label='chord')\n",
    "loglog(errors_secant, label='secant')\n",
    "loglog(errors_newton, label ='newton')\n",
    "loglog(errors_fixed, label ='fixed')\n",
    "_ = legend()"
   ]
  },
  {
   "cell_type": "code",
   "execution_count": null,
   "metadata": {
    "id": "wlynp8Ge-Omu"
   },
   "outputs": [],
   "source": [
    "# Let's compare the scipy implementation of Newton's method with our.."
   ]
  },
  {
   "cell_type": "code",
   "execution_count": null,
   "metadata": {
    "colab": {
     "base_uri": "https://localhost:8080/"
    },
    "id": "G1hCN5mW-Omu",
    "outputId": "34fbb02c-f0cd-4f9a-dca1-77ff7be225db"
   },
   "outputs": [],
   "source": [
    "import scipy.optimize as opt\n",
    "%time opt.newton(f, 1.0, f_prime, tol = eps)"
   ]
  }
 ],
 "metadata": {
  "anaconda-cloud": {},
  "colab": {
   "collapsed_sections": [
    "LNMKFJ7Q-Omp",
    "XJu3vzxh-Omr",
    "lxBMTAIO-Omt",
    "x5oDsF6a-Omu"
   ],
   "name": "Copy of 03-nonlinear-equations.ipynb",
   "provenance": []
  },
  "kernelspec": {
   "display_name": "Python 3 (ipykernel)",
   "language": "python",
   "name": "python3"
  },
  "language_info": {
   "codemirror_mode": {
    "name": "ipython",
    "version": 3
   },
   "file_extension": ".py",
   "mimetype": "text/x-python",
   "name": "python",
   "nbconvert_exporter": "python",
   "pygments_lexer": "ipython3",
   "version": "3.9.7"
  },
  "name": "07_non_linear_equations.ipynb"
 },
 "nbformat": 4,
 "nbformat_minor": 1
}
