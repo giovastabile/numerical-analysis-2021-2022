{
 "cells": [
  {
   "cell_type": "markdown",
   "id": "8184faab",
   "metadata": {},
   "source": [
    "Consider the following one-dimensional PDE:\n",
    "$$\n",
    "-u_{xx}(x) = f(x)\\quad\\mathrm{ in }\\ \\Omega = (0, \\pi)\n",
    "$$\n",
    "$$\n",
    "u(x) = 0, \\quad\\mathrm{ on }\\ \\partial\\Omega = \\{0, \\pi\\}\n",
    "$$\n",
    "\n",
    "Given\n",
    "\n",
    "$$\n",
    "f(x) = \\sin(x)\n",
    "$$\n",
    "\n",
    "Divide the domain in $100$ points and implement a second order finite difference scheme to obtain the linear system of equations.\n",
    "$$Au = b$$"
   ]
  },
  {
   "cell_type": "code",
   "execution_count": null,
   "id": "1fde3295",
   "metadata": {},
   "outputs": [],
   "source": []
  },
  {
   "cell_type": "markdown",
   "id": "4f8a7c6f",
   "metadata": {},
   "source": [
    "Solve the derived linear system of equations using an LU and a Cholesky factorization and plot the computed solution"
   ]
  },
  {
   "cell_type": "code",
   "execution_count": null,
   "id": "47468a37",
   "metadata": {},
   "outputs": [],
   "source": []
  },
  {
   "cell_type": "markdown",
   "id": "62cdfe65",
   "metadata": {},
   "source": [
    "Solve the derived linear system implementing a conjugate gradient method."
   ]
  },
  {
   "cell_type": "code",
   "execution_count": null,
   "id": "193ebfed",
   "metadata": {},
   "outputs": [],
   "source": []
  },
  {
   "cell_type": "markdown",
   "id": "c8d5002f",
   "metadata": {},
   "source": [
    "Exploit the derived LU factorization to compute the condition number of the system's matrix"
   ]
  },
  {
   "cell_type": "code",
   "execution_count": null,
   "id": "3d3d3d9c",
   "metadata": {},
   "outputs": [],
   "source": []
  },
  {
   "cell_type": "markdown",
   "id": "8a4cfc02",
   "metadata": {},
   "source": [
    "Consider the following variation of the PDE:\n",
    "$$\n",
    "u'(t)-u_{xx} = \\alpha(t)f(x)\n",
    "$$\n",
    "\n",
    "for $t\\in [0,T]$, with $\\alpha(t) = \\cos(t)$ and $T = 6\\pi$\n",
    "\n",
    "Use a finite difference scheme to derive the semi-discrete formulation and solve it using a forward Euler's method. Analyze the convergence with varying $\\Delta t$. \n",
    "\n",
    "Plot the time dependent solution solution at $x = \\pi/2$, $x=1$, \n",
    "$x=\\pi$\n"
   ]
  },
  {
   "cell_type": "code",
   "execution_count": null,
   "id": "3ffe0689",
   "metadata": {},
   "outputs": [],
   "source": []
  },
  {
   "cell_type": "markdown",
   "id": "36936121",
   "metadata": {},
   "source": [
    "Given the original $Au = b$ system and implement an algorithm to compute the eigenvalues and eigenvectors of the matrix $A$. Exploit the computed LU factorization"
   ]
  },
  {
   "cell_type": "code",
   "execution_count": null,
   "id": "622aadf4",
   "metadata": {},
   "outputs": [],
   "source": []
  },
  {
   "cell_type": "markdown",
   "id": "85d5f64e",
   "metadata": {},
   "source": [
    "Compute the inverse of the matrix A exploiting the derived LU factorization"
   ]
  },
  {
   "cell_type": "code",
   "execution_count": null,
   "id": "6ad7199f",
   "metadata": {},
   "outputs": [],
   "source": []
  },
  {
   "cell_type": "markdown",
   "id": "cb22566e",
   "metadata": {},
   "source": [
    "Consider the following Cauchy problem\n",
    "$$\n",
    "\\begin{cases}\n",
    "y'= -ty^2 \\quad 0\\le t \\le 2\\\\\n",
    "y(0) = 1\n",
    "\\end{cases}\n",
    "$$\n",
    "Implement the Backward Euler's method in a suitable function and solve the resulting non-linear equation using a Newton's method."
   ]
  }
 ],
 "metadata": {
  "kernelspec": {
   "display_name": "Python 3 (ipykernel)",
   "language": "python",
   "name": "python3"
  },
  "language_info": {
   "codemirror_mode": {
    "name": "ipython",
    "version": 3
   },
   "file_extension": ".py",
   "mimetype": "text/x-python",
   "name": "python",
   "nbconvert_exporter": "python",
   "pygments_lexer": "ipython3",
   "version": "3.10.1"
  }
 },
 "nbformat": 4,
 "nbformat_minor": 5
}
